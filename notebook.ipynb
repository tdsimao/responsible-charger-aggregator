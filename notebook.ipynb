{
 "cells": [
  {
   "cell_type": "code",
   "execution_count": 16,
   "metadata": {
    "collapsed": true
   },
   "outputs": [],
   "source": [
    "import numpy as np\n",
    "from util import *\n",
    "from gurobipy import *"
   ]
  },
  {
   "cell_type": "code",
   "execution_count": 17,
   "metadata": {},
   "outputs": [
    {
     "data": {
      "text/plain": [
       "array([[ 0. ,  0.1,  0.1],\n",
       "       [ 0.1,  0. ,  0.1],\n",
       "       [ 0.1,  0.1,  0. ]])"
      ]
     },
     "execution_count": 17,
     "metadata": {},
     "output_type": "execute_result"
    }
   ],
   "source": [
    "nodes = 3\n",
    "lines = 3\n",
    "x = np.zeros([nodes,nodes])\n",
    "x[0][1] = .1\n",
    "x[0][2] = .1\n",
    "x[1][2] = .1\n",
    "x[1][0] = x[0][1]\n",
    "x[2][0] = x[0][2]\n",
    "x[2][1] = x[1][2]\n",
    "x"
   ]
  },
  {
   "cell_type": "code",
   "execution_count": 18,
   "metadata": {},
   "outputs": [
    {
     "data": {
      "text/plain": [
       "array([[ 20., -10., -10.],\n",
       "       [-10.,  20., -10.],\n",
       "       [-10., -10.,  20.]])"
      ]
     },
     "execution_count": 18,
     "metadata": {},
     "output_type": "execute_result"
    }
   ],
   "source": [
    "M = np.zeros([nodes,nodes])\n",
    "for i in range(nodes):\n",
    "    for j in range(nodes):\n",
    "        if i != j:\n",
    "            M[i,j] = -1./x[i,j]\n",
    "        else:\n",
    "            M[i,j] =sum( 1./x[k,j] for k in range(nodes) if k != j)\n",
    "M"
   ]
  },
  {
   "cell_type": "code",
   "execution_count": 19,
   "metadata": {},
   "outputs": [
    {
     "data": {
      "text/plain": [
       "array([[ 0.06666667,  0.03333333],\n",
       "       [ 0.03333333,  0.06666667]])"
      ]
     },
     "execution_count": 19,
     "metadata": {},
     "output_type": "execute_result"
    }
   ],
   "source": [
    "Z = np.linalg.inv(M[1::,1::])\n",
    "Z"
   ]
  },
  {
   "cell_type": "code",
   "execution_count": 20,
   "metadata": {},
   "outputs": [
    {
     "data": {
      "text/plain": [
       "array([[[ 0.        ,  0.        ,  0.        ],\n",
       "        [-0.03333333, -0.06666667, -0.03333333],\n",
       "        [-0.06666667, -0.03333333, -0.06666667]],\n",
       "\n",
       "       [[ 0.03333333,  0.06666667,  0.03333333],\n",
       "        [ 0.        ,  0.        ,  0.        ],\n",
       "        [-0.03333333,  0.03333333, -0.03333333]],\n",
       "\n",
       "       [[ 0.06666667,  0.03333333,  0.06666667],\n",
       "        [ 0.03333333, -0.03333333,  0.03333333],\n",
       "        [ 0.        ,  0.        ,  0.        ]]])"
      ]
     },
     "execution_count": 20,
     "metadata": {},
     "output_type": "execute_result"
    }
   ],
   "source": [
    "S = np.zeros([nodes, nodes, nodes])\n",
    "for i in range(nodes):\n",
    "    for l in range(nodes):\n",
    "        for k in range(nodes):\n",
    "            if k == 0 and l != 0:\n",
    "                S[k,l,i] = -1*Z[l-1,i-1]\n",
    "            elif k!= 0 and l==0:\n",
    "                S[k,l,i] = Z[k-1,i-1]\n",
    "            elif k!= 0 and l!=0 and k!=l:\n",
    "                S[k,l,i] = Z[k-1,i-1] - Z[l-1,i-1]\n",
    "S"
   ]
  },
  {
   "cell_type": "code",
   "execution_count": 21,
   "metadata": {},
   "outputs": [
    {
     "data": {
      "text/plain": [
       "array([[ 0.        , -1.33333333, -1.66666667],\n",
       "       [ 1.33333333,  0.        , -0.33333333],\n",
       "       [ 1.66666667,  0.33333333,  0.        ]])"
      ]
     },
     "execution_count": 21,
     "metadata": {},
     "output_type": "execute_result"
    }
   ],
   "source": [
    "P = np.array([2,1,-3])\n",
    "F = np.zeros([nodes,nodes])\n",
    "for k,l in [(0,1), (0,2), (1,2), (1,0), (2,0), (2,1)]:\n",
    "    F[k,l] = sum(P[i] * 1./x[k,l] * S[k,l,i] for i in range(nodes-1))\n",
    "F"
   ]
  },
  {
   "cell_type": "code",
   "execution_count": 22,
   "metadata": {},
   "outputs": [
    {
     "name": "stdout",
     "output_type": "stream",
     "text": [
      "Warning: variable name \"F(0, 1)\" has a space\n",
      "Warning: to let Gurobi read it back, use rlp format\n",
      "\\ Model Grid\n",
      "\\ LP format - for model browsing. Use MPS format to capture full model detail.\n",
      "Maximize\n",
      "  load[1] + load[2]\n",
      "Subject To\n",
      " R0: 0.3333333333333333 load[0] + 0.6666666666666666 load[1] + F(0,_1) = 0\n",
      " R1: F(0,_1) <= 10\n",
      " R2: 0.6666666666666666 load[0] + 0.3333333333333333 load[1] + F(0,_2) = 0\n",
      " R3: F(0,_2) <= 10\n",
      " R4: 0.3333333333333333 load[0] - 0.3333333333333333 load[1] + F(1,_2) = 0\n",
      " R5: F(1,_2) <= 10\n",
      " R6: load[0] + load[1] + load[2] = 0\n",
      "Bounds\n",
      " load[0] free\n",
      " load[1] free\n",
      " load[2] free\n",
      "End\n",
      "\n",
      "Optimize a model with 7 rows, 6 columns and 15 nonzeros\n",
      "Coefficient statistics:\n",
      "  Matrix range     [3e-01, 1e+00]\n",
      "  Objective range  [1e+00, 1e+00]\n",
      "  Bounds range     [0e+00, 0e+00]\n",
      "  RHS range        [1e+01, 1e+01]\n",
      "Presolve removed 7 rows and 6 columns\n",
      "Presolve time: 0.01s\n",
      "Presolve: All rows and columns removed\n",
      "Iteration    Objective       Primal Inf.    Dual Inf.      Time\n",
      "       0    2.0000000e+01   0.000000e+00   0.000000e+00      0s\n",
      "\n",
      "Solved in 0 iterations and 0.03 seconds\n",
      "Optimal objective  2.000000000e+01\n",
      "Optimal objective: 20\n",
      "load[0]                   -20.0          \n",
      "load[1]                   10.0           \n",
      "load[2]                   10.0           \n",
      "F(0, 1)                   0.0            \n",
      "F(0, 2)                   10.0           \n",
      "F(1, 2)                   10.0           \n"
     ]
    }
   ],
   "source": [
    "\n",
    "m = Model(\"Grid\")\n",
    "\n",
    "load = m.addVars(nodes, name=\"load\", lb=-GRB.INFINITY)\n",
    "m.setObjective(quicksum(load[i] for i in range(1,nodes)), GRB.MAXIMIZE)\n",
    "\n",
    "\n",
    "lines = [(0,1), (0,2), (1,2)]\n",
    "limits = np.ones([nodes,nodes]) * 10\n",
    "F = {}\n",
    "for k,l in lines:\n",
    "    F[(k,l)] = m.addVar(name=\"F\"+str((k,l)))\n",
    "    m.addConstr(F[(k,l)] == sum(load[i] * 1./x[k,l] * S[k,l,i] for i in range(nodes-1)))\n",
    "    m.addConstr(F[(k,l)] <= limits[k,l])\n",
    "   \n",
    "    \n",
    "m.addConstr(quicksum(load) == 0)\n",
    "\n",
    "print_lp(m)\n",
    "solve_lp(m)"
   ]
  }
 ],
 "metadata": {
  "kernelspec": {
   "display_name": "Python 3",
   "language": "python",
   "name": "python3"
  },
  "language_info": {
   "codemirror_mode": {
    "name": "ipython",
    "version": 2
   },
   "file_extension": ".py",
   "mimetype": "text/x-python",
   "name": "python",
   "nbconvert_exporter": "python",
   "pygments_lexer": "ipython2",
   "version": "2.7.12"
  }
 },
 "nbformat": 4,
 "nbformat_minor": 2
}
